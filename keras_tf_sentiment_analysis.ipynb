{
  "nbformat": 4,
  "nbformat_minor": 0,
  "metadata": {
    "colab": {
      "name": "keras-tf-sentiment-analysis.ipynb",
      "provenance": [],
      "collapsed_sections": [],
      "authorship_tag": "ABX9TyOAg9pLHyIBW2RppNxOHD6B",
      "include_colab_link": true
    },
    "kernelspec": {
      "name": "python3",
      "display_name": "Python 3"
    },
    "language_info": {
      "name": "python"
    },
    "accelerator": "GPU"
  },
  "cells": [
    {
      "cell_type": "markdown",
      "metadata": {
        "id": "view-in-github",
        "colab_type": "text"
      },
      "source": [
        "<a href=\"https://colab.research.google.com/github/ValdazoAmerico/keras-tf-sentiment-analysis/blob/main/keras_tf_sentiment_analysis.ipynb\" target=\"_parent\"><img src=\"https://colab.research.google.com/assets/colab-badge.svg\" alt=\"Open In Colab\"/></a>"
      ]
    },
    {
      "cell_type": "code",
      "metadata": {
        "id": "bR1PYaItEKnY"
      },
      "source": [
        "import tensorflow as tf\n",
        "from tensorflow import keras\n",
        "import numpy as np"
      ],
      "execution_count": 1,
      "outputs": []
    },
    {
      "cell_type": "code",
      "metadata": {
        "id": "bG4ljTp5FCHT"
      },
      "source": [
        "data = keras.datasets.imdb"
      ],
      "execution_count": 2,
      "outputs": []
    },
    {
      "cell_type": "code",
      "metadata": {
        "colab": {
          "base_uri": "https://localhost:8080/"
        },
        "id": "1VTa0pTLG1P9",
        "outputId": "d6eac233-070f-40db-bbe2-87c1fc4f645a"
      },
      "source": [
        "(train_data, train_labels), (test_data, test_labels) = data.load_data(num_words=10000)"
      ],
      "execution_count": 3,
      "outputs": [
        {
          "output_type": "stream",
          "text": [
            "<string>:6: VisibleDeprecationWarning: Creating an ndarray from ragged nested sequences (which is a list-or-tuple of lists-or-tuples-or ndarrays with different lengths or shapes) is deprecated. If you meant to do this, you must specify 'dtype=object' when creating the ndarray\n",
            "/usr/local/lib/python3.7/dist-packages/tensorflow/python/keras/datasets/imdb.py:155: VisibleDeprecationWarning: Creating an ndarray from ragged nested sequences (which is a list-or-tuple of lists-or-tuples-or ndarrays with different lengths or shapes) is deprecated. If you meant to do this, you must specify 'dtype=object' when creating the ndarray\n",
            "  x_train, y_train = np.array(xs[:idx]), np.array(labels[:idx])\n",
            "/usr/local/lib/python3.7/dist-packages/tensorflow/python/keras/datasets/imdb.py:156: VisibleDeprecationWarning: Creating an ndarray from ragged nested sequences (which is a list-or-tuple of lists-or-tuples-or ndarrays with different lengths or shapes) is deprecated. If you meant to do this, you must specify 'dtype=object' when creating the ndarray\n",
            "  x_test, y_test = np.array(xs[idx:]), np.array(labels[idx:])\n"
          ],
          "name": "stderr"
        }
      ]
    },
    {
      "cell_type": "code",
      "metadata": {
        "colab": {
          "base_uri": "https://localhost:8080/"
        },
        "id": "L3uEqnxoG7Oj",
        "outputId": "206daca3-71f8-4116-8103-7c5065111a1b"
      },
      "source": [
        "print(train_data[0])"
      ],
      "execution_count": 4,
      "outputs": [
        {
          "output_type": "stream",
          "text": [
            "[1, 14, 22, 16, 43, 530, 973, 1622, 1385, 65, 458, 4468, 66, 3941, 4, 173, 36, 256, 5, 25, 100, 43, 838, 112, 50, 670, 2, 9, 35, 480, 284, 5, 150, 4, 172, 112, 167, 2, 336, 385, 39, 4, 172, 4536, 1111, 17, 546, 38, 13, 447, 4, 192, 50, 16, 6, 147, 2025, 19, 14, 22, 4, 1920, 4613, 469, 4, 22, 71, 87, 12, 16, 43, 530, 38, 76, 15, 13, 1247, 4, 22, 17, 515, 17, 12, 16, 626, 18, 2, 5, 62, 386, 12, 8, 316, 8, 106, 5, 4, 2223, 5244, 16, 480, 66, 3785, 33, 4, 130, 12, 16, 38, 619, 5, 25, 124, 51, 36, 135, 48, 25, 1415, 33, 6, 22, 12, 215, 28, 77, 52, 5, 14, 407, 16, 82, 2, 8, 4, 107, 117, 5952, 15, 256, 4, 2, 7, 3766, 5, 723, 36, 71, 43, 530, 476, 26, 400, 317, 46, 7, 4, 2, 1029, 13, 104, 88, 4, 381, 15, 297, 98, 32, 2071, 56, 26, 141, 6, 194, 7486, 18, 4, 226, 22, 21, 134, 476, 26, 480, 5, 144, 30, 5535, 18, 51, 36, 28, 224, 92, 25, 104, 4, 226, 65, 16, 38, 1334, 88, 12, 16, 283, 5, 16, 4472, 113, 103, 32, 15, 16, 5345, 19, 178, 32]\n"
          ],
          "name": "stdout"
        }
      ]
    },
    {
      "cell_type": "code",
      "metadata": {
        "colab": {
          "base_uri": "https://localhost:8080/"
        },
        "id": "AS_jsz7zG9Q9",
        "outputId": "5d6e562a-f496-4b0e-b0e2-9eb884b0fa0d"
      },
      "source": [
        "word_index = data.get_word_index()\n",
        "\n",
        "word_index = {k: (v+3) for k, v in word_index.items()}\n",
        "word_index['<PAD>'] = 0\n",
        "word_index['<START>'] = 1\n",
        "word_index['<UNK>'] = 2\n",
        "word_index['<UNUSED>'] = 3\n",
        "\n",
        "reverse_word_index = dict([(value, key) for (key, value) in word_index.items()])\n",
        "\n",
        "train_data = tf.keras.preprocessing.sequence.pad_sequences(train_data, value=word_index['<PAD>'], padding=\"post\", maxlen=250)\n",
        "test_data = tf.keras.preprocessing.sequence.pad_sequences(test_data, value=word_index['<PAD>'], padding=\"post\", maxlen=250)\n",
        "\n",
        "print(len(train_data), len(test_data))\n",
        "\n",
        "\n",
        "def decode_review(text):\n",
        "  return \" \".join([reverse_word_index.get(i, \"?\") for i in text])\n",
        "\n",
        "print(decode_review(test_data[5]))"
      ],
      "execution_count": 5,
      "outputs": [
        {
          "output_type": "stream",
          "text": [
            "25000 25000\n",
            "<START> i'm absolutely disgusted this movie isn't being sold all who love this movie should email disney and increase the demand for it they'd eventually have to sell it then i'd buy copies for everybody i know everything and everybody in this movie did a good job and i haven't figured out why disney hasn't put this movie on dvd or on vhs in rental stores at least i haven't seen any copies this is a wicked good movie and should be seen by all the kids in the new generation don't get to see it and i think they should it should at least be put back on the channel this movie doesn't deserve a cheap <UNK> it deserves the real thing i'm them now this movie will be on dvd <PAD> <PAD> <PAD> <PAD> <PAD> <PAD> <PAD> <PAD> <PAD> <PAD> <PAD> <PAD> <PAD> <PAD> <PAD> <PAD> <PAD> <PAD> <PAD> <PAD> <PAD> <PAD> <PAD> <PAD> <PAD> <PAD> <PAD> <PAD> <PAD> <PAD> <PAD> <PAD> <PAD> <PAD> <PAD> <PAD> <PAD> <PAD> <PAD> <PAD> <PAD> <PAD> <PAD> <PAD> <PAD> <PAD> <PAD> <PAD> <PAD> <PAD> <PAD> <PAD> <PAD> <PAD> <PAD> <PAD> <PAD> <PAD> <PAD> <PAD> <PAD> <PAD> <PAD> <PAD> <PAD> <PAD> <PAD> <PAD> <PAD> <PAD> <PAD> <PAD> <PAD> <PAD> <PAD> <PAD> <PAD> <PAD> <PAD> <PAD> <PAD> <PAD> <PAD> <PAD> <PAD> <PAD> <PAD> <PAD> <PAD> <PAD> <PAD> <PAD> <PAD> <PAD> <PAD> <PAD> <PAD> <PAD> <PAD> <PAD> <PAD> <PAD> <PAD> <PAD> <PAD> <PAD> <PAD> <PAD> <PAD> <PAD> <PAD> <PAD> <PAD> <PAD> <PAD> <PAD> <PAD> <PAD>\n"
          ],
          "name": "stdout"
        }
      ]
    },
    {
      "cell_type": "code",
      "metadata": {
        "colab": {
          "base_uri": "https://localhost:8080/"
        },
        "id": "W9eftbVNHjK9",
        "outputId": "a471ea6f-d527-4326-9287-26875294d52c"
      },
      "source": [
        "\n",
        "print(len(train_data), len(test_data))"
      ],
      "execution_count": 6,
      "outputs": [
        {
          "output_type": "stream",
          "text": [
            "25000 25000\n"
          ],
          "name": "stdout"
        }
      ]
    },
    {
      "cell_type": "code",
      "metadata": {
        "colab": {
          "base_uri": "https://localhost:8080/"
        },
        "id": "ClIDcckqJYNZ",
        "outputId": "ca6a18a9-627f-4193-e3f6-7a52b812fd47"
      },
      "source": [
        "\n",
        "print(len(train_data[0]), len(test_data[1]))"
      ],
      "execution_count": 7,
      "outputs": [
        {
          "output_type": "stream",
          "text": [
            "250 250\n"
          ],
          "name": "stdout"
        }
      ]
    },
    {
      "cell_type": "code",
      "metadata": {
        "id": "KRbxNGsXPV5d"
      },
      "source": [
        "model = tf.keras.Sequential()\n",
        "model.add(tf.keras.layers.Embedding(10000,16))\n",
        "model.add(tf.keras.layers.GlobalAveragePooling1D())\n",
        "model.add(tf.keras.layers.Dense(16, activation=\"relu\"))\n",
        "model.add(tf.keras.layers.Dense(1,activation=\"sigmoid\"))"
      ],
      "execution_count": 8,
      "outputs": []
    },
    {
      "cell_type": "code",
      "metadata": {
        "colab": {
          "base_uri": "https://localhost:8080/"
        },
        "id": "tV-WT3yBP_cD",
        "outputId": "fc1a02c5-a5b2-4ff1-91d3-24b4fb80a8ad"
      },
      "source": [
        "model.summary()"
      ],
      "execution_count": 9,
      "outputs": [
        {
          "output_type": "stream",
          "text": [
            "Model: \"sequential\"\n",
            "_________________________________________________________________\n",
            "Layer (type)                 Output Shape              Param #   \n",
            "=================================================================\n",
            "embedding (Embedding)        (None, None, 16)          160000    \n",
            "_________________________________________________________________\n",
            "global_average_pooling1d (Gl (None, 16)                0         \n",
            "_________________________________________________________________\n",
            "dense (Dense)                (None, 16)                272       \n",
            "_________________________________________________________________\n",
            "dense_1 (Dense)              (None, 1)                 17        \n",
            "=================================================================\n",
            "Total params: 160,289\n",
            "Trainable params: 160,289\n",
            "Non-trainable params: 0\n",
            "_________________________________________________________________\n"
          ],
          "name": "stdout"
        }
      ]
    },
    {
      "cell_type": "code",
      "metadata": {
        "id": "qttW8A7uTVxe"
      },
      "source": [
        "model.compile(optimizer=\"adam\", loss=\"binary_crossentropy\", metrics=['accuracy'])"
      ],
      "execution_count": 10,
      "outputs": []
    },
    {
      "cell_type": "code",
      "metadata": {
        "id": "xEFptAGSTv06"
      },
      "source": [
        "x_val = train_data[:10000]\n",
        "x_train = train_data[10000:]"
      ],
      "execution_count": 11,
      "outputs": []
    },
    {
      "cell_type": "code",
      "metadata": {
        "id": "n8AQrarkT4kj"
      },
      "source": [
        "y_val = train_labels[:10000]\n",
        "y_train = train_labels[10000:]"
      ],
      "execution_count": 12,
      "outputs": []
    },
    {
      "cell_type": "code",
      "metadata": {
        "colab": {
          "base_uri": "https://localhost:8080/"
        },
        "id": "bAeY9UYYUN1Y",
        "outputId": "91ec5a33-09e6-48ba-8add-96ce1b79c208"
      },
      "source": [
        "fitModel = model.fit(x_train, y_train, epochs=40, batch_size=512, validation_data=(x_val, y_val), verbose=1)"
      ],
      "execution_count": 13,
      "outputs": [
        {
          "output_type": "stream",
          "text": [
            "Epoch 1/40\n",
            "30/30 [==============================] - 1s 21ms/step - loss: 0.6919 - accuracy: 0.5647 - val_loss: 0.6900 - val_accuracy: 0.6885\n",
            "Epoch 2/40\n",
            "30/30 [==============================] - 0s 15ms/step - loss: 0.6864 - accuracy: 0.7165 - val_loss: 0.6823 - val_accuracy: 0.7354\n",
            "Epoch 3/40\n",
            "30/30 [==============================] - 0s 15ms/step - loss: 0.6740 - accuracy: 0.7443 - val_loss: 0.6669 - val_accuracy: 0.7386\n",
            "Epoch 4/40\n",
            "30/30 [==============================] - 0s 16ms/step - loss: 0.6515 - accuracy: 0.7679 - val_loss: 0.6400 - val_accuracy: 0.7571\n",
            "Epoch 5/40\n",
            "30/30 [==============================] - 0s 16ms/step - loss: 0.6164 - accuracy: 0.7885 - val_loss: 0.6027 - val_accuracy: 0.7820\n",
            "Epoch 6/40\n",
            "30/30 [==============================] - 0s 15ms/step - loss: 0.5710 - accuracy: 0.8093 - val_loss: 0.5579 - val_accuracy: 0.8053\n",
            "Epoch 7/40\n",
            "30/30 [==============================] - 0s 15ms/step - loss: 0.5198 - accuracy: 0.8321 - val_loss: 0.5112 - val_accuracy: 0.8202\n",
            "Epoch 8/40\n",
            "30/30 [==============================] - 0s 16ms/step - loss: 0.4694 - accuracy: 0.8467 - val_loss: 0.4677 - val_accuracy: 0.8347\n",
            "Epoch 9/40\n",
            "30/30 [==============================] - 0s 16ms/step - loss: 0.4230 - accuracy: 0.8637 - val_loss: 0.4317 - val_accuracy: 0.8437\n",
            "Epoch 10/40\n",
            "30/30 [==============================] - 0s 15ms/step - loss: 0.3839 - accuracy: 0.8742 - val_loss: 0.3997 - val_accuracy: 0.8528\n",
            "Epoch 11/40\n",
            "30/30 [==============================] - 0s 15ms/step - loss: 0.3510 - accuracy: 0.8853 - val_loss: 0.3757 - val_accuracy: 0.8597\n",
            "Epoch 12/40\n",
            "30/30 [==============================] - 0s 15ms/step - loss: 0.3240 - accuracy: 0.8925 - val_loss: 0.3562 - val_accuracy: 0.8652\n",
            "Epoch 13/40\n",
            "30/30 [==============================] - 0s 15ms/step - loss: 0.3012 - accuracy: 0.8985 - val_loss: 0.3415 - val_accuracy: 0.8705\n",
            "Epoch 14/40\n",
            "30/30 [==============================] - 0s 15ms/step - loss: 0.2815 - accuracy: 0.9040 - val_loss: 0.3299 - val_accuracy: 0.8716\n",
            "Epoch 15/40\n",
            "30/30 [==============================] - 0s 15ms/step - loss: 0.2646 - accuracy: 0.9092 - val_loss: 0.3193 - val_accuracy: 0.8778\n",
            "Epoch 16/40\n",
            "30/30 [==============================] - 0s 16ms/step - loss: 0.2497 - accuracy: 0.9139 - val_loss: 0.3125 - val_accuracy: 0.8773\n",
            "Epoch 17/40\n",
            "30/30 [==============================] - 0s 15ms/step - loss: 0.2363 - accuracy: 0.9181 - val_loss: 0.3052 - val_accuracy: 0.8808\n",
            "Epoch 18/40\n",
            "30/30 [==============================] - 0s 15ms/step - loss: 0.2241 - accuracy: 0.9231 - val_loss: 0.3001 - val_accuracy: 0.8810\n",
            "Epoch 19/40\n",
            "30/30 [==============================] - 0s 15ms/step - loss: 0.2129 - accuracy: 0.9271 - val_loss: 0.2959 - val_accuracy: 0.8825\n",
            "Epoch 20/40\n",
            "30/30 [==============================] - 0s 16ms/step - loss: 0.2025 - accuracy: 0.9301 - val_loss: 0.2929 - val_accuracy: 0.8835\n",
            "Epoch 21/40\n",
            "30/30 [==============================] - 0s 15ms/step - loss: 0.1933 - accuracy: 0.9351 - val_loss: 0.2900 - val_accuracy: 0.8832\n",
            "Epoch 22/40\n",
            "30/30 [==============================] - 0s 15ms/step - loss: 0.1840 - accuracy: 0.9396 - val_loss: 0.2881 - val_accuracy: 0.8840\n",
            "Epoch 23/40\n",
            "30/30 [==============================] - 0s 15ms/step - loss: 0.1757 - accuracy: 0.9431 - val_loss: 0.2868 - val_accuracy: 0.8846\n",
            "Epoch 24/40\n",
            "30/30 [==============================] - 0s 15ms/step - loss: 0.1679 - accuracy: 0.9471 - val_loss: 0.2870 - val_accuracy: 0.8843\n",
            "Epoch 25/40\n",
            "30/30 [==============================] - 0s 15ms/step - loss: 0.1607 - accuracy: 0.9499 - val_loss: 0.2858 - val_accuracy: 0.8867\n",
            "Epoch 26/40\n",
            "30/30 [==============================] - 0s 15ms/step - loss: 0.1536 - accuracy: 0.9522 - val_loss: 0.2862 - val_accuracy: 0.8863\n",
            "Epoch 27/40\n",
            "30/30 [==============================] - 0s 15ms/step - loss: 0.1473 - accuracy: 0.9548 - val_loss: 0.2874 - val_accuracy: 0.8856\n",
            "Epoch 28/40\n",
            "30/30 [==============================] - 0s 15ms/step - loss: 0.1410 - accuracy: 0.9561 - val_loss: 0.2875 - val_accuracy: 0.8867\n",
            "Epoch 29/40\n",
            "30/30 [==============================] - 0s 15ms/step - loss: 0.1352 - accuracy: 0.9595 - val_loss: 0.2891 - val_accuracy: 0.8866\n",
            "Epoch 30/40\n",
            "30/30 [==============================] - 0s 15ms/step - loss: 0.1296 - accuracy: 0.9623 - val_loss: 0.2905 - val_accuracy: 0.8864\n",
            "Epoch 31/40\n",
            "30/30 [==============================] - 0s 16ms/step - loss: 0.1247 - accuracy: 0.9643 - val_loss: 0.2937 - val_accuracy: 0.8842\n",
            "Epoch 32/40\n",
            "30/30 [==============================] - 0s 15ms/step - loss: 0.1194 - accuracy: 0.9661 - val_loss: 0.2962 - val_accuracy: 0.8847\n",
            "Epoch 33/40\n",
            "30/30 [==============================] - 0s 15ms/step - loss: 0.1149 - accuracy: 0.9675 - val_loss: 0.2966 - val_accuracy: 0.8863\n",
            "Epoch 34/40\n",
            "30/30 [==============================] - 0s 14ms/step - loss: 0.1099 - accuracy: 0.9694 - val_loss: 0.2989 - val_accuracy: 0.8853\n",
            "Epoch 35/40\n",
            "30/30 [==============================] - 0s 15ms/step - loss: 0.1059 - accuracy: 0.9707 - val_loss: 0.3034 - val_accuracy: 0.8829\n",
            "Epoch 36/40\n",
            "30/30 [==============================] - 0s 15ms/step - loss: 0.1015 - accuracy: 0.9725 - val_loss: 0.3046 - val_accuracy: 0.8832\n",
            "Epoch 37/40\n",
            "30/30 [==============================] - 0s 15ms/step - loss: 0.0972 - accuracy: 0.9749 - val_loss: 0.3102 - val_accuracy: 0.8830\n",
            "Epoch 38/40\n",
            "30/30 [==============================] - 0s 16ms/step - loss: 0.0937 - accuracy: 0.9758 - val_loss: 0.3120 - val_accuracy: 0.8819\n",
            "Epoch 39/40\n",
            "30/30 [==============================] - 0s 15ms/step - loss: 0.0894 - accuracy: 0.9774 - val_loss: 0.3144 - val_accuracy: 0.8820\n",
            "Epoch 40/40\n",
            "30/30 [==============================] - 0s 15ms/step - loss: 0.0859 - accuracy: 0.9788 - val_loss: 0.3193 - val_accuracy: 0.8827\n"
          ],
          "name": "stdout"
        }
      ]
    },
    {
      "cell_type": "code",
      "metadata": {
        "colab": {
          "base_uri": "https://localhost:8080/"
        },
        "id": "yxl8PiRiUZ63",
        "outputId": "ea79e9c2-13cc-4ed2-aae4-4d7464c995b7"
      },
      "source": [
        "results = model.evaluate(test_data, test_labels)"
      ],
      "execution_count": 14,
      "outputs": [
        {
          "output_type": "stream",
          "text": [
            "782/782 [==============================] - 1s 1ms/step - loss: 0.3430 - accuracy: 0.8674\n"
          ],
          "name": "stdout"
        }
      ]
    },
    {
      "cell_type": "code",
      "metadata": {
        "colab": {
          "base_uri": "https://localhost:8080/"
        },
        "id": "qaAujo-QUoA6",
        "outputId": "dc4f48d2-75f2-4d86-d0ae-d11c1a3463b9"
      },
      "source": [
        "results"
      ],
      "execution_count": 15,
      "outputs": [
        {
          "output_type": "execute_result",
          "data": {
            "text/plain": [
              "[0.34299227595329285, 0.8673999905586243]"
            ]
          },
          "metadata": {
            "tags": []
          },
          "execution_count": 15
        }
      ]
    },
    {
      "cell_type": "code",
      "metadata": {
        "id": "y1S5dOS9UpOv"
      },
      "source": [
        "test_review = test_data[0]\n",
        "predict = model.predict([test_review])\n",
        "print(\"Review: \")\n",
        "print(decode_review(test_review))\n",
        "print(\"Prediction: \" + str(predict[0]))\n",
        "print(\"Actual: \" + str(test_labels[0]))"
      ],
      "execution_count": null,
      "outputs": []
    }
  ]
}